{
  "cells": [
    {
      "cell_type": "markdown",
      "id": "f584c5cb",
      "metadata": {},
      "source": [
        "# Wan2GP on Google Colab\n",
        "\n",
        "Sets up [Wan2GP](https://github.com/deepbeepmeep/Wan2GP) in a fresh GPU-backed Colab session. \n",
        "\n",
        "Run the cells in order to prepare the runtime, install dependencies, and launch the Gradio interface. Click on the link in the output from the last cell to launch the app in your browser.\n",
        "\n",
        "> **Colab VRAM note:** the free tier usually assigns a 15 GB T4 GPU. Most Wan2GP models exceed that budget; the Wan 2.2 TextImage2Video FastWan model works, producing roughly a 5 second 480p clip in about 8 minutes.\n"
      ]
    },
    {
      "cell_type": "markdown",
      "id": "77130695",
      "metadata": {},
      "source": [
        "## 1. Confirm the accelerator\n",
        "\n",
        "Choose `Runtime → Change runtime type` and select **GPU** before running anything else.\n",
        "\n",
        "If this cell raises an error, go back to `Runtime → Change runtime type`, pick **GPU** and save.\n"
      ]
    },
    {
      "cell_type": "code",
      "execution_count": null,
      "id": "4039d142",
      "metadata": {},
      "outputs": [],
      "source": [
        "import subprocess\n",
        "\n",
        "try:\n",
        "    subprocess.run(['nvidia-smi'], check=True)\n",
        "except Exception as exc:\n",
        "    raise RuntimeError(\n",
        "        'GPU not detected. In Colab, open Runtime → Change runtime type, select GPU (or TPU if GPUs are unavailable), save, then rerun this cell.'\n",
        "    ) from exc\n"
      ]
    },
    {
      "cell_type": "markdown",
      "id": "56f52fd5",
      "metadata": {},
      "source": [
        "## 2. Configure the workspace path\n",
        "\n",
        "Choose where Wan2GP should be installed. Update `WAN2GP_ROOT` if you prefer a different location.\n"
      ]
    },
    {
      "cell_type": "code",
      "execution_count": null,
      "id": "2d7ee132",
      "metadata": {},
      "outputs": [],
      "source": [
        "from pathlib import Path\n",
        "\n",
        "WAN2GP_ROOT = Path('/content/Wan2GP').resolve()\n",
        "print(f'Wan2GP will be installed to: {WAN2GP_ROOT}')\n"
      ]
    },
    {
      "cell_type": "markdown",
      "id": "e3594ffa",
      "metadata": {},
      "source": [
        "## 3. Download or update Wan2GP\n",
        "\n",
        "Clone the repository if it is not present yet; otherwise pull the latest changes.\n"
      ]
    },
    {
      "cell_type": "code",
      "execution_count": null,
      "id": "a3dc4c56",
      "metadata": {},
      "outputs": [],
      "source": [
        "import subprocess\n",
        "\n",
        "repo_url = 'https://github.com/deepbeepmeep/Wan2GP.git'\n",
        "if WAN2GP_ROOT.exists():\n",
        "    print('Repository already exists. Pulling latest changes...')\n",
        "    subprocess.run(['git', '-C', str(WAN2GP_ROOT), 'pull'], check=True)\n",
        "else:\n",
        "    subprocess.run(['git', 'clone', repo_url, str(WAN2GP_ROOT)], check=True)\n"
      ]
    },
    {
      "cell_type": "markdown",
      "id": "95ea607f",
      "metadata": {},
      "source": [
        "## 4. Install system dependencies\n",
        "\n",
        "Install shared libraries needed for video and audio processing. If you see a warning about skipping an extra repository, it is safe to ignore."
      ]
    },
    {
      "cell_type": "code",
      "execution_count": null,
      "id": "ef235d0f",
      "metadata": {},
      "outputs": [],
      "source": [
        "import os, subprocess\n",
        "\n",
        "env = os.environ.copy()\n",
        "env['DEBIAN_FRONTEND'] = 'noninteractive'\n",
        "\n",
        "subprocess.run(['sudo', 'apt-get', 'update', '-qq'], check=True, env=env)\n",
        "subprocess.run([\n",
        "    'sudo', 'apt-get', 'install', '-y', '--no-install-recommends',\n",
        "    'ffmpeg', 'libglib2.0-0', 'libgl1', 'libportaudio2'\n",
        "], check=True, env=env)\n"
      ]
    },
    {
      "cell_type": "markdown",
      "id": "1f619664",
      "metadata": {},
      "source": [
        "## 5. Install Python dependencies\n",
        "\n",
        "Install PyTorch and Wan2GP's Python packages. Colab's GPU runtimes currently ship with CUDA 12.5 drivers, but PyTorch 2.8.0 only publishes up to cu121 wheels; the commands below install that build (it runs fine on newer drivers). Update this if PyTorch releases cu125 wheels or Google changes the runtime.\n"
      ]
    },
    {
      "cell_type": "code",
      "execution_count": null,
      "id": "d7093e37",
      "metadata": {},
      "outputs": [],
      "source": [
        "import os, subprocess, sys\n",
        "\n",
        "env = os.environ.copy()\n",
        "env.setdefault('DEBIAN_FRONTEND', 'noninteractive')\n",
        "\n",
        "subprocess.run([sys.executable, '-m', 'pip', 'install', '--upgrade', 'pip', 'setuptools', 'wheel'], check=True, env=env)\n",
        "subprocess.run([sys.executable, '-m', 'pip', 'install', 'torch==2.8.0', 'torchvision', 'torchaudio', '--index-url', 'https://download.pytorch.org/whl/cu121'], check=True, env=env)\n",
        "subprocess.run([sys.executable, '-m', 'pip', 'install', '-r', str(WAN2GP_ROOT / 'requirements.txt')], check=True, env=env)\n"
      ]
    },
    {
      "cell_type": "markdown",
      "id": "5e7d6487",
      "metadata": {},
      "source": [
        "## 6. Launch Wan2GP\n",
        "\n",
        "Run the Gradio interface. You will find the gradio link in the output. Click on the link to access the UI. Keep the cell running to stay connected; stop it with the square **Stop** button when you are finished."
      ]
    },
    {
      "cell_type": "code",
      "execution_count": null,
      "id": "cb423194",
      "metadata": {},
      "outputs": [],
      "source": [
        "import os, subprocess, sys, threading, time\n",
        "\n",
        "env = os.environ.copy()\n",
        "env.setdefault('WAN_CACHE_DIR', str(WAN2GP_ROOT / 'models'))\n",
        "cmd = [\n",
        "    sys.executable,\n",
        "    '-u',\n",
        "    'wgp.py',\n",
        "    '--listen',\n",
        "    '--server-port', '7860',\n",
        "    '--share',\n",
        "    '--profile', '5',\n",
        "]\n",
        "print('Launching Wan2GP…')\n",
        "process = subprocess.Popen(\n",
        "    cmd,\n",
        "    cwd=str(WAN2GP_ROOT),\n",
        "    env=env,\n",
        "    stdout=subprocess.PIPE,\n",
        "    stderr=subprocess.STDOUT,\n",
        "    text=True,\n",
        "    bufsize=1,\n",
        ")\n",
        "stop_event = threading.Event()\n",
        "\n",
        "def keepalive():\n",
        "    while not stop_event.is_set():\n",
        "        time.sleep(45)\n",
        "        if stop_event.is_set():\n",
        "            break\n",
        "        print('[keepalive] Notebook cell still running…')\n",
        "\n",
        "keepalive_thread = threading.Thread(target=keepalive, daemon=True)\n",
        "keepalive_thread.start()\n",
        "\n",
        "try:\n",
        "    for line in iter(process.stdout.readline, ''):\n",
        "        if not line:\n",
        "            break\n",
        "        print(line, end='')\n",
        "except KeyboardInterrupt:\n",
        "    print('Stopping Wan2GP…')\n",
        "    process.terminate()\n",
        "finally:\n",
        "    stop_event.set()\n",
        "    process.wait()\n",
        "    keepalive_thread.join(timeout=1)\n",
        "    print(f'Wan2GP stopped (return code: {process.returncode}).')\n"
      ]
    }
  ],
  "metadata": {
    "accelerator": "GPU",
    "colab": {
      "name": "Wan2GP on Colab",
      "provenance": []
    },
    "kernelspec": {
      "display_name": "Python 3",
      "language": "python",
      "name": "python3"
    },
    "language_info": {
      "name": "python",
      "version": "3.10"
    }
  },
  "nbformat": 4,
  "nbformat_minor": 5
}
